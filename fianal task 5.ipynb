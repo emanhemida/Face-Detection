{
 "cells": [
  {
   "cell_type": "code",
   "execution_count": 22,
   "id": "67a9fc18",
   "metadata": {},
   "outputs": [],
   "source": [
    "import cv2\n",
    "import numpy as np\n",
    "import dlib\n",
    "def extract_index_nparray(nparray):\n",
    "    index = None\n",
    "    for num in nparray[0]:\n",
    "        index = num\n",
    "        break\n",
    "    return index"
   ]
  },
  {
   "cell_type": "code",
   "execution_count": 23,
   "id": "7837b6e6",
   "metadata": {},
   "outputs": [],
   "source": [
    "img = cv2.imread(\"bradley_cooper.jpg\")\n",
    "img2 = cv2.imread(\"jim_carrey.jpg\")\n",
    "img_gray = cv2.cvtColor(img, cv2.COLOR_BGR2GRAY)\n",
    "img2_gray = cv2.cvtColor(img2, cv2.COLOR_BGR2GRAY)\n",
    "mask = np.zeros_like(img_gray)"
   ]
  },
  {
   "cell_type": "code",
   "execution_count": 3,
   "id": "cd518bd2",
   "metadata": {},
   "outputs": [],
   "source": [
    "detector = dlib.get_frontal_face_detector()\n",
    "predictor = dlib.shape_predictor(\"shape_predictor_68_face_landmarks.dat\")"
   ]
  },
  {
   "cell_type": "code",
   "execution_count": 4,
   "id": "03c6c01a",
   "metadata": {},
   "outputs": [],
   "source": [
    "faces = detector(img_gray)\n",
    "for face in faces:\n",
    "    landmarks = predictor(img_gray, face)\n",
    "    landmarks_points = []\n",
    "    for n in range(0, 68):\n",
    "        x = landmarks.part(n).x\n",
    "        y = landmarks.part(n).y\n",
    "        landmarks_points.append((x, y))"
   ]
  },
  {
   "cell_type": "code",
   "execution_count": 5,
   "id": "3bb05cab",
   "metadata": {},
   "outputs": [
    {
     "data": {
      "text/plain": [
       "array([[[31, 71, 53],\n",
       "        [29, 69, 51],\n",
       "        [28, 66, 48],\n",
       "        ...,\n",
       "        [ 0, 19,  7],\n",
       "        [ 8, 30, 18],\n",
       "        [14, 36, 24]],\n",
       "\n",
       "       [[31, 69, 51],\n",
       "        [29, 67, 49],\n",
       "        [25, 63, 45],\n",
       "        ...,\n",
       "        [ 7, 24, 13],\n",
       "        [13, 33, 21],\n",
       "        [16, 38, 26]],\n",
       "\n",
       "       [[28, 64, 47],\n",
       "        [25, 61, 44],\n",
       "        [21, 57, 40],\n",
       "        ...,\n",
       "        [14, 30, 19],\n",
       "        [18, 35, 24],\n",
       "        [18, 38, 26]],\n",
       "\n",
       "       ...,\n",
       "\n",
       "       [[21,  6,  4],\n",
       "        [19,  4,  2],\n",
       "        [21,  4,  1],\n",
       "        ...,\n",
       "        [53, 24, 10],\n",
       "        [56, 27, 13],\n",
       "        [59, 29, 18]],\n",
       "\n",
       "       [[22,  7,  5],\n",
       "        [21,  6,  4],\n",
       "        [23,  6,  3],\n",
       "        ...,\n",
       "        [60, 31, 17],\n",
       "        [54, 25, 11],\n",
       "        [51, 21, 10]],\n",
       "\n",
       "       [[20,  5,  3],\n",
       "        [20,  5,  3],\n",
       "        [22,  5,  2],\n",
       "        ...,\n",
       "        [66, 37, 23],\n",
       "        [60, 31, 17],\n",
       "        [56, 26, 15]]], dtype=uint8)"
      ]
     },
     "execution_count": 5,
     "metadata": {},
     "output_type": "execute_result"
    }
   ],
   "source": [
    "points = np.array(landmarks_points, np.int32)\n",
    "convexhull = cv2.convexHull(points)\n",
    "cv2.polylines(img, [convexhull], True, (255, 0, 0), 3)\n"
   ]
  },
  {
   "cell_type": "code",
   "execution_count": 6,
   "id": "7932eefd",
   "metadata": {},
   "outputs": [],
   "source": [
    "mask = np.zeros_like(img_gray)"
   ]
  },
  {
   "cell_type": "code",
   "execution_count": 7,
   "id": "6fb5058b",
   "metadata": {},
   "outputs": [
    {
     "data": {
      "text/plain": [
       "array([[0, 0, 0, ..., 0, 0, 0],\n",
       "       [0, 0, 0, ..., 0, 0, 0],\n",
       "       [0, 0, 0, ..., 0, 0, 0],\n",
       "       ...,\n",
       "       [0, 0, 0, ..., 0, 0, 0],\n",
       "       [0, 0, 0, ..., 0, 0, 0],\n",
       "       [0, 0, 0, ..., 0, 0, 0]], dtype=uint8)"
      ]
     },
     "execution_count": 7,
     "metadata": {},
     "output_type": "execute_result"
    }
   ],
   "source": [
    "cv2.fillConvexPoly(mask, convexhull, 255)"
   ]
  },
  {
   "cell_type": "code",
   "execution_count": 8,
   "id": "da29be53",
   "metadata": {},
   "outputs": [],
   "source": [
    "face_image_1 = cv2.bitwise_and(img, img, mask=mask)"
   ]
  },
  {
   "cell_type": "code",
   "execution_count": null,
   "id": "0066555d",
   "metadata": {},
   "outputs": [],
   "source": [
    "cv2.imshow(\"Image 1\", img)\n",
    "cv2.imshow(\"Face image 1\", face_image_1)\n",
    "cv2.imshow(\"Mask\", mask)\n",
    "cv2.waitKey(0)\n",
    "cv2.destroyAllWindows()"
   ]
  },
  {
   "cell_type": "code",
   "execution_count": 25,
   "id": "32db51b7",
   "metadata": {},
   "outputs": [
    {
     "data": {
      "text/plain": [
       "array([[[31, 71, 53],\n",
       "        [29, 69, 51],\n",
       "        [28, 66, 48],\n",
       "        ...,\n",
       "        [ 0, 19,  7],\n",
       "        [ 8, 30, 18],\n",
       "        [14, 36, 24]],\n",
       "\n",
       "       [[31, 69, 51],\n",
       "        [29, 67, 49],\n",
       "        [25, 63, 45],\n",
       "        ...,\n",
       "        [ 7, 24, 13],\n",
       "        [13, 33, 21],\n",
       "        [16, 38, 26]],\n",
       "\n",
       "       [[28, 64, 47],\n",
       "        [25, 61, 44],\n",
       "        [21, 57, 40],\n",
       "        ...,\n",
       "        [14, 30, 19],\n",
       "        [18, 35, 24],\n",
       "        [18, 38, 26]],\n",
       "\n",
       "       ...,\n",
       "\n",
       "       [[21,  6,  4],\n",
       "        [19,  4,  2],\n",
       "        [21,  4,  1],\n",
       "        ...,\n",
       "        [53, 24, 10],\n",
       "        [56, 27, 13],\n",
       "        [59, 29, 18]],\n",
       "\n",
       "       [[22,  7,  5],\n",
       "        [21,  6,  4],\n",
       "        [23,  6,  3],\n",
       "        ...,\n",
       "        [60, 31, 17],\n",
       "        [54, 25, 11],\n",
       "        [51, 21, 10]],\n",
       "\n",
       "       [[20,  5,  3],\n",
       "        [20,  5,  3],\n",
       "        [22,  5,  2],\n",
       "        ...,\n",
       "        [66, 37, 23],\n",
       "        [60, 31, 17],\n",
       "        [56, 26, 15]]], dtype=uint8)"
      ]
     },
     "execution_count": 25,
     "metadata": {},
     "output_type": "execute_result"
    }
   ],
   "source": [
    "# Delaunay triangulation\n",
    "rect = cv2.boundingRect(convexhull)\n",
    "subdiv = cv2.Subdiv2D(rect)\n",
    "subdiv.insert(landmarks_points)\n",
    "triangles = subdiv.getTriangleList()\n",
    "triangles = np.array(triangles, dtype=np.int32)\n",
    "indexes_triangles = []\n",
    "for t in triangles:\n",
    "        pt1 = (t[0], t[1])\n",
    "        pt2 = (t[2], t[3])\n",
    "        pt3 = (t[4], t[5])\n",
    "cv2.line(img, pt1, pt2, (0, 0, 255), 2)\n",
    "cv2.line(img, pt2, pt3, (0, 0, 255), 2)\n",
    "cv2.line(img, pt1, pt3, (0, 0, 255), 2)        "
   ]
  },
  {
   "cell_type": "code",
   "execution_count": 17,
   "id": "3b51a81a",
   "metadata": {},
   "outputs": [],
   "source": [
    "def extract_index_nparray(nparray):\n",
    "    index = None\n",
    "    for num in nparray[0]:\n",
    "        index = num\n",
    "        break\n",
    "    return index"
   ]
  },
  {
   "cell_type": "code",
   "execution_count": 19,
   "id": "67d3ae51",
   "metadata": {},
   "outputs": [],
   "source": [
    "index_pt1 = np.where((points == pt1).all(axis=1))\n",
    "index_pt1 = extract_index_nparray(index_pt1)\n",
    "index_pt2 = np.where((points == pt2).all(axis=1))\n",
    "index_pt2 = extract_index_nparray(index_pt2)\n",
    "index_pt3 = np.where((points == pt3).all(axis=1))\n",
    "index_pt3 = extract_index_nparray(index_pt3)\n",
    "\n"
   ]
  },
  {
   "cell_type": "code",
   "execution_count": 26,
   "id": "d3d7ea41",
   "metadata": {},
   "outputs": [],
   "source": [
    "if index_pt1 is not None and index_pt2 is not None and index_pt3 is not None:\n",
    "            triangle = [index_pt1, index_pt2, index_pt3]\n",
    "            indexes_triangles.append(triangle)"
   ]
  },
  {
   "cell_type": "code",
   "execution_count": 27,
   "id": "c29d7776",
   "metadata": {},
   "outputs": [],
   "source": [
    "# Face 2\n",
    "faces2 = detector(img2_gray)\n",
    "for face in faces2:\n",
    "    landmarks = predictor(img2_gray, face)\n",
    "    landmarks_points = []\n",
    "    for n in range(0, 68):\n",
    "        x = landmarks.part(n).x\n",
    "        y = landmarks.part(n).y\n",
    "        landmarks_points.append((x, y))\n",
    "        cv2.circle(img2, (x, y), 3, (0, 255, 0), -1)"
   ]
  },
  {
   "cell_type": "code",
   "execution_count": null,
   "id": "b5837511",
   "metadata": {},
   "outputs": [],
   "source": [
    "cv2.imshow(\"Image 1\", img)\n",
    "cv2.imshow(\"Face image 1\", face_image_1)\n",
    "cv2.imshow(\"image2\", img2)\n",
    "cv2.imshow(\"Mask\", mask)\n",
    "cv2.waitKey(0)\n",
    "cv2.destroyAllWindows()"
   ]
  },
  {
   "cell_type": "code",
   "execution_count": null,
   "id": "323720f1",
   "metadata": {},
   "outputs": [],
   "source": [
    "# Triangulation of both faces\n",
    "for triangle_index in indexes_triangles:\n",
    "    # Triangulation of the first face\n",
    "    tr1_pt1 = landmarks_points[triangle_index[0]]\n",
    "    tr1_pt2 = landmarks_points[triangle_index[1]]\n",
    "    tr1_pt3 = landmarks_points[triangle_index[2]]\n",
    "    triangle1 = np.array([tr1_pt1, tr1_pt2, tr1_pt3], np.int32)\n",
    "    rect1 = cv2.boundingRect(triangle1)\n",
    "    (x, y, w, h) = rect1\n",
    "    cropped_triangle = img[y: y + h, x: x + w]\n",
    "    cropped_tr1_mask = np.zeros((h, w), np.uint8)\n",
    "    points = np.array([[tr1_pt1[0] - x, tr1_pt1[1] - y],\n",
    "                      [tr1_pt2[0] - x, tr1_pt2[1] - y],\n",
    "                      [tr1_pt3[0] - x, tr1_pt3[1] - y]], np.int32)\n",
    "    cv2.fillConvexPoly(cropped_tr1_mask, points, 255)\n",
    "    cropped_triangle = cv2.bitwise_and(cropped_triangle, cropped_triangle,\n",
    "                                       mask=cropped_tr1_mask)\n",
    "\n",
    "    cv2.line(img, tr1_pt1, tr1_pt2, (0, 0, 255), 2)\n",
    "    cv2.line(img, tr1_pt3, tr1_pt2, (0, 0, 255), 2)\n",
    "    cv2.line(img, tr1_pt1, tr1_pt3, (0, 0, 255), 2)"
   ]
  },
  {
   "cell_type": "code",
   "execution_count": null,
   "id": "cdd6bc90",
   "metadata": {},
   "outputs": [],
   "source": [
    "    # Triangulation of second face\n",
    "    tr2_pt1 = landmarks_points2[triangle_index[0]]\n",
    "    tr2_pt2 = landmarks_points2[triangle_index[1]]\n",
    "    tr2_pt3 = landmarks_points2[triangle_index[2]]\n",
    "    triangle2 = np.array([tr2_pt1, tr2_pt2, tr2_pt3], np.int32)\n",
    "    rect2 = cv2.boundingRect(triangle2)\n",
    "    (x, y, w, h) = rect2\n",
    "    cropped_triangle2 = img2[y: y + h, x: x + w]\n",
    "    cropped_tr2_mask = np.zeros((h, w), np.uint8)\n",
    "    points2 = np.array([[tr2_pt1[0] - x, tr2_pt1[1] - y],\n",
    "                       [tr2_pt2[0] - x, tr2_pt2[1] - y],\n",
    "                       [tr2_pt3[0] - x, tr2_pt3[1] - y]], np.int32)\n",
    "    cv2.fillConvexPoly(cropped_tr2_mask, points2, 255)\n",
    "    cropped_triangle2 = cv2.bitwise_and(cropped_triangle2, cropped_triangle2,\n",
    "                                       mask=cropped_tr2_mask)\n",
    "    cv2.line(img2, tr2_pt1, tr2_pt2, (0, 0, 255), 2)\n",
    "    cv2.line(img2, tr2_pt3, tr2_pt2, (0, 0, 255), 2)\n",
    "    cv2.line(img2, tr2_pt1, tr2_pt3, (0, 0, 255), 2)"
   ]
  },
  {
   "cell_type": "code",
   "execution_count": null,
   "id": "cc563ac4",
   "metadata": {},
   "outputs": [],
   "source": [
    "# Warp triangles\n",
    "points = np.float32(points)\n",
    "points2 = np.float32(points2)\n",
    "M = cv2.getAffineTransform(points, points2)\n",
    "warped_triangle = cv2.warpAffine(cropped_triangle, M, (w, h))\n",
    "break    "
   ]
  },
  {
   "cell_type": "code",
   "execution_count": null,
   "id": "56cc5655",
   "metadata": {},
   "outputs": [],
   "source": [
    "cv2.imshow(\"Image 1\", img)\n",
    "cv2.imshow(\"image2\", img2)\n",
    "cv2.imshow(\"cropped triangle 1\", cropped_triangle)\n",
    "cv2.imshow(\"cropped triangle 2\", cropped_triangle2)\n",
    "cv2.imshow(\"Warped triangle\", warped_triangle)\n",
    "cv2.waitKey(0)\n",
    "cv2.destroyAllWindows()"
   ]
  },
  {
   "cell_type": "code",
   "execution_count": null,
   "id": "6430fa0f",
   "metadata": {},
   "outputs": [],
   "source": []
  },
  {
   "cell_type": "code",
   "execution_count": null,
   "id": "991d79d5",
   "metadata": {},
   "outputs": [],
   "source": []
  }
 ],
 "metadata": {
  "kernelspec": {
   "display_name": "Python 3 (ipykernel)",
   "language": "python",
   "name": "python3"
  },
  "language_info": {
   "codemirror_mode": {
    "name": "ipython",
    "version": 3
   },
   "file_extension": ".py",
   "mimetype": "text/x-python",
   "name": "python",
   "nbconvert_exporter": "python",
   "pygments_lexer": "ipython3",
   "version": "3.9.18"
  }
 },
 "nbformat": 4,
 "nbformat_minor": 5
}
